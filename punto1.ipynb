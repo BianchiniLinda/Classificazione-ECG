{
 "cells": [
  {
   "cell_type": "markdown",
   "metadata": {
    "id": "_wEvebjW6VIN"
   },
   "source": [
    "# Classificazione ECG: punto 1\n",
    "Si applica il modello proposto dal paper che è definito nella funzione create_model() e consiste di 10 layers."
   ]
  },
  {
   "cell_type": "code",
   "execution_count": 1,
   "metadata": {
    "executionInfo": {
     "elapsed": 2377,
     "status": "ok",
     "timestamp": 1624257491036,
     "user": {
      "displayName": "linda bianchini",
      "photoUrl": "",
      "userId": "12143919592352508291"
     },
     "user_tz": -120
    },
    "id": "AdCnSULz6VIQ"
   },
   "outputs": [],
   "source": [
    "import pandas as pd\n",
    "import matplotlib.pyplot as plt\n",
    "import numpy as np\n",
    "from tensorflow.keras import Sequential,utils, regularizers, initializers, optimizers\n",
    "from tensorflow.keras.layers import Flatten, Dense, Conv1D, MaxPool1D, Dropout, Softmax\n",
    "import seaborn as sns\n",
    "from sklearn.metrics import confusion_matrix, accuracy_score\n",
    "from sklearn.model_selection import train_test_split\n",
    "from scipy.signal import find_peaks\n",
    "from tensorflow import keras\n",
    "import tensorflow as tf"
   ]
  },
  {
   "cell_type": "markdown",
   "metadata": {},
   "source": [
    "Rifacciamo il download dei dati e li reinseriamo nei vettori di train, test e validation"
   ]
  },
  {
   "cell_type": "code",
   "execution_count": null,
   "metadata": {},
   "outputs": [],
   "source": [
    "meta = pd.read_csv(r'C:\\Users\\bianc\\Desktop\\Reti neurali\\meta.csv', header = None, error_bad_lines=False)\n",
    "meta = pd.DataFrame(meta)"
   ]
  },
  {
   "cell_type": "code",
   "execution_count": null,
   "metadata": {},
   "outputs": [],
   "source": [
    "num_battiti = []\n",
    "X = []\n",
    "for i in patients:\n",
    "    if i < 10:\n",
    "        file = 'ECG_lead2_patient00%i.npy' % i\n",
    "    elif i < 100 and i > 9:\n",
    "        file = 'ECG_lead2_patient0%i.npy' % i\n",
    "    else:\n",
    "        file = 'ECG_lead2_patient%i.npy' % i\n",
    "    a = np.load(file, allow_pickle=True)\n",
    "    c = 0\n",
    "    for i in a:\n",
    "        X.append(i)\n",
    "        c+=1\n",
    "    num_battiti.append(c)\n",
    "    \n",
    "num_battiti = np.array(num_battiti)\n",
    "X = np.array(X)\n",
    "print(num_battiti)"
   ]
  },
  {
   "cell_type": "code",
   "execution_count": null,
   "metadata": {},
   "outputs": [],
   "source": [
    "num_battiti_MI = np.zeros(294) # numero di battiti per ogni file dei pazienti con infarto del miocardio\n",
    "X_MI = [] #ECG corrispondenti\n",
    "for i in range(1, 550):\n",
    "    p = int(meta.iloc[i][0].split('t')[2])\n",
    "    file = 'ECG%i.npy' % i\n",
    "    try:\n",
    "        a = np.load(file, allow_pickle=True)\n",
    "        c = 0\n",
    "        for i in a:\n",
    "            X_MI.append(i)\n",
    "            c+=1\n",
    "        num_battiti_MI[p-1] += c\n",
    "    except:\n",
    "        print('File does not exist')\n",
    "    \n",
    "num_battiti_MI = num_battiti_MI.astype(int)\n",
    "X_MI = np.array(X_MI)\n",
    "print(num_battiti_MI)\n",
    "print(num_battiti_MI.size)"
   ]
  },
  {
   "cell_type": "code",
   "execution_count": null,
   "metadata": {},
   "outputs": [],
   "source": [
    "X_total = np.concatenate((X, X_MI))\n",
    "X_total.shape"
   ]
  },
  {
   "cell_type": "code",
   "execution_count": null,
   "metadata": {},
   "outputs": [],
   "source": [
    "y_label = []\n",
    "for i in patients:\n",
    "    if i < 10:\n",
    "        line = 'patient00%i' % i\n",
    "    elif i < 100 and i > 9:\n",
    "        line = 'patient0%i' % i\n",
    "    else:\n",
    "        line = 'patient%i' % i\n",
    "    for i in range(1, 550):\n",
    "        if meta.iloc[i][0] == line:\n",
    "            if meta.iloc[i][13] == 'Myocardial infarction':\n",
    "                if meta.iloc[i][14] == 'anterior':\n",
    "                    label = 1\n",
    "                elif meta.iloc[i][14] == 'infero-latera' or meta.iloc[i][14] == 'infero-lateral':\n",
    "                    label = 2\n",
    "                elif meta.iloc[i][14] == 'antero-lateral':\n",
    "                    label = 3\n",
    "                elif meta.iloc[i][14] == 'inferior':\n",
    "                    label = 4\n",
    "                elif meta.iloc[i][14] == 'antero-septal':\n",
    "                    label = 5\n",
    "                elif meta.iloc[i][14] == 'infero-posterior-lateral' or meta.iloc[i][14] == 'infero-postero-lateral' or meta.iloc[i][14] == 'infero-poster-lateral':\n",
    "                    label = 6\n",
    "                elif meta.iloc[i][14] == 'postero-lateral':\n",
    "                    label = 7\n",
    "                elif meta.iloc[i][14] == 'posterior':\n",
    "                    label = 8\n",
    "                elif meta.iloc[i][14] == 'lateral':\n",
    "                    label = 9\n",
    "                elif meta.iloc[i][14] == 'infero-posterior':\n",
    "                    label = 10\n",
    "                elif meta.iloc[i][14] == 'antero-septo-lateral':\n",
    "                    label = 11\n",
    "            elif meta.iloc[i][13] == 'Healthy control':\n",
    "                label = 0\n",
    "            y_label.append(label)\n",
    "            break\n",
    "            \n",
    "y_label = np.array(y_label)\n",
    "y_label.size"
   ]
  },
  {
   "cell_type": "code",
   "execution_count": null,
   "metadata": {},
   "outputs": [],
   "source": [
    "y_label_new = []\n",
    "for i in range(y_label.size):\n",
    "    for j in range(num_battiti[i]):\n",
    "        y_label_new.append(y_label[i])\n",
    "        \n",
    "y_label = np.array(y_label_new)\n",
    "y_label.size"
   ]
  },
  {
   "cell_type": "code",
   "execution_count": null,
   "metadata": {},
   "outputs": [],
   "source": [
    "y_label_MI = np.zeros(294) #creazione dei vettori di label\n",
    "for j in MI_MoreThanOne:\n",
    "    if j < 10:\n",
    "        line = 'patient00%i' % j\n",
    "    elif j < 100 and i > 9:\n",
    "        line = 'patient0%i' % j\n",
    "    else:\n",
    "        line = 'patient%i' % j\n",
    "    for i in range(1, 550):\n",
    "        if meta.iloc[i][0] == line:\n",
    "            if meta.iloc[i][13] == 'Myocardial infarction':\n",
    "                if meta.iloc[i][14] == 'anterior':\n",
    "                    label = 1\n",
    "                elif meta.iloc[i][14] == 'infero-latera' or meta.iloc[i][14] == 'infero-lateral':\n",
    "                    label = 2\n",
    "                elif meta.iloc[i][14] == 'antero-lateral':\n",
    "                    label = 3\n",
    "                elif meta.iloc[i][14] == 'inferior':\n",
    "                    label = 4\n",
    "                elif meta.iloc[i][14] == 'antero-septal':\n",
    "                    label = 5\n",
    "                elif meta.iloc[i][14] == 'infero-posterior-lateral' or meta.iloc[i][14] == 'infero-postero-lateral' or meta.iloc[i][14] == 'infero-poster-lateral':\n",
    "                    label = 6\n",
    "                elif meta.iloc[i][14] == 'postero-lateral':\n",
    "                    label = 7\n",
    "                elif meta.iloc[i][14] == 'posterior':\n",
    "                    label = 8\n",
    "                elif meta.iloc[i][14] == 'lateral':\n",
    "                    label = 9\n",
    "                elif meta.iloc[i][14] == 'infero-posterior':\n",
    "                    label = 10\n",
    "                elif meta.iloc[i][14] == 'antero-septo-lateral':\n",
    "                    label = 11\n",
    "            elif meta.iloc[i][13] == 'Healthy control':\n",
    "                label = 0\n",
    "            y_label_MI[j-1] += label\n",
    "            break\n",
    "            \n",
    "y_label_MI = y_label_MI.astype(int)\n",
    "y_label_MI.size"
   ]
  },
  {
   "cell_type": "code",
   "execution_count": null,
   "metadata": {},
   "outputs": [],
   "source": [
    "#togliamo gli zeri\n",
    "y_label_new = []\n",
    "num_battiti_new = []\n",
    "for i in range(y_label_MI.size):\n",
    "    if y_label_MI[i] != 0:\n",
    "        y_label_new.append(y_label_MI[i])\n",
    "        num_battiti_new.append(num_battiti_MI[i])\n",
    "        \n",
    "y_label_MI = np.array(y_label_new)\n",
    "num_battiti_MI = np.array(num_battiti_new)\n",
    "print(y_label_MI.size)\n",
    "print(num_battiti_MI.size)"
   ]
  },
  {
   "cell_type": "code",
   "execution_count": null,
   "metadata": {},
   "outputs": [],
   "source": [
    "#creiamo il vettore di label per gli MI\n",
    "y_label_new = []\n",
    "for i in range(y_label_MI.size):\n",
    "    for j in range(num_battiti_MI[i]):\n",
    "        y_label_new.append(y_label_MI[i])\n",
    "        \n",
    "y_label_MI = np.array(y_label_new)\n",
    "y_label_MI.size"
   ]
  },
  {
   "cell_type": "code",
   "execution_count": null,
   "metadata": {},
   "outputs": [],
   "source": [
    "Y_total = np.concatenate((y_label, y_label_MI))"
   ]
  },
  {
   "cell_type": "code",
   "execution_count": null,
   "metadata": {},
   "outputs": [],
   "source": [
    "#togliamo i battiti sottocampionati\n",
    "X_total_new = []\n",
    "Y_total_new = []\n",
    "for i in range(X_total.shape[0]):\n",
    "    if X_total[i].size==650:\n",
    "        X_total_new.append(X_total[i])\n",
    "        Y_total_new.append(Y_total[i])\n",
    "X_total = np.array(X_total_new)\n",
    "Y_total = np.array(Y_total_new)\n",
    "print(X_total.shape)\n",
    "print(Y_total.size)"
   ]
  },
  {
   "cell_type": "code",
   "execution_count": null,
   "metadata": {},
   "outputs": [],
   "source": [
    "N = X_total.shape[0]\n",
    "\n",
    "n = np.arange(N)\n",
    "\n",
    "import random\n",
    "cut = int(0.85 * N) #85% del totale\n",
    "random.shuffle(n)\n",
    "X_train_index = n[:cut] # first 85% train\n",
    "X_test_index = n[cut:] # last 15% test\n",
    "\n",
    "cut1 = int(0.128 * len(X_train_index))\n",
    "random.shuffle(X_train_index)\n",
    "X_train_index = X_train_index[cut1:] # last 70% train\n",
    "X_val_index = X_train_index[:cut1] # first 15% validation\n",
    "\n",
    "X_test_index = np.array(X_test_index)\n",
    "X_train_index = np.array(X_train_index)\n",
    "X_val_index = np.array(X_val_index)"
   ]
  },
  {
   "cell_type": "code",
   "execution_count": null,
   "metadata": {},
   "outputs": [],
   "source": [
    "Xtrain = []\n",
    "Ytrain = []\n",
    "Xval = []\n",
    "Yval = []\n",
    "Xtest = []\n",
    "Ytest = []\n",
    "for i in X_train_index:\n",
    "    Xtrain.append(X_total[i])\n",
    "    Ytrain.append(Y_total[i])\n",
    "for i in X_test_index:\n",
    "    Xtest.append(X_total[i])\n",
    "    Ytest.append(Y_total[i])\n",
    "for i in X_val_index:\n",
    "    Xval.append(X_total[i])\n",
    "    Yval.append(Y_total[i])\n",
    "    \n",
    "Xtrain = np.array(Xtrain, dtype=object)\n",
    "Ytrain = np.array(Ytrain, dtype=object)\n",
    "Xtest = np.array(Xtest, dtype=object)\n",
    "Ytest = np.array(Ytest, dtype=object)\n",
    "Xval = np.array(Xval, dtype=object)\n",
    "Yval = np.array(Yval, dtype=object)"
   ]
  },
  {
   "cell_type": "code",
   "execution_count": null,
   "metadata": {},
   "outputs": [],
   "source": []
  },
  {
   "cell_type": "code",
   "execution_count": null,
   "metadata": {},
   "outputs": [],
   "source": []
  },
  {
   "cell_type": "code",
   "execution_count": null,
   "metadata": {},
   "outputs": [],
   "source": [
    "def create_model(optimizer, activation='relu'):\n",
    "    model = Sequential()\n",
    "    model.add(Conv1D(64, 5, strides=1, input_shape = input_shape, activation=activation))\n",
    "    model.add(Conv1D(128, 3, strides=1, activation=activation))\n",
    "    model.add(MaxPool1D(pool_size=2, strides=2))\n",
    "    model.add(Dropout(0.2))\n",
    "    model.add(Conv1D(128, 13, strides=1, activation=activation))\n",
    "    model.add(Conv1D(256, 7, strides=1, activation=activation))\n",
    "    model.add(MaxPool1D(pool_size=2, strides=2))\n",
    "    model.add(Flatten())\n",
    "    model.add(Dense(12, activation = activation))\n",
    "    model.add(Softmax())\n",
    "    \n",
    "    print(model.summary())\n",
    "\n",
    "    model.compile(loss = keras.losses.categorical_crossentropy, optimizer = optimizer, metrics = ['accuracy']) \n",
    "    \n",
    "    return model"
   ]
  },
  {
   "cell_type": "markdown",
   "metadata": {
    "id": "dBcOQHpDoLZT"
   },
   "source": [
    "# Rete senza data augmentation\n",
    "Si applica la rete ai dati ottenuti dal punto0 "
   ]
  },
  {
   "cell_type": "code",
   "execution_count": 100,
   "metadata": {
    "colab": {
     "base_uri": "https://localhost:8080/"
    },
    "executionInfo": {
     "elapsed": 319,
     "status": "ok",
     "timestamp": 1624265013450,
     "user": {
      "displayName": "linda bianchini",
      "photoUrl": "",
      "userId": "12143919592352508291"
     },
     "user_tz": -120
    },
    "id": "Q4uI_9E9oQJz",
    "outputId": "d479c095-cf19-49a5-d1ca-8d93c32b38e9"
   },
   "outputs": [
    {
     "name": "stdout",
     "output_type": "stream",
     "text": [
      "shape train before:  (52015, 650)\n",
      "shape train after:  (52015, 650, 1)\n",
      "shape validation before:  (7635, 650)\n",
      "shape validation before:  (7635, 650, 1)\n"
     ]
    }
   ],
   "source": [
    "print('shape train before: ',Xtrain.shape)\n",
    "Xtrain = Xtrain.reshape(Xtrain.shape[0],Xtrain[0].size,1)\n",
    "print('shape train after: ',Xtrain.shape)\n",
    "print('shape validation before: ',Xval.shape)\n",
    "Xval = Xval.reshape(Xval.shape[0],Xval[0].size,1)\n",
    "print('shape validation before: ',Xval.shape)\n",
    "input_shape = (Xtrain[0].size,1)\n",
    "\n",
    "batch_size = 64\n",
    "epochs = 50"
   ]
  },
  {
   "cell_type": "code",
   "execution_count": 101,
   "metadata": {
    "executionInfo": {
     "elapsed": 474,
     "status": "ok",
     "timestamp": 1624265016535,
     "user": {
      "displayName": "linda bianchini",
      "photoUrl": "",
      "userId": "12143919592352508291"
     },
     "user_tz": -120
    },
    "id": "dTFVaSg1oP8h"
   },
   "outputs": [],
   "source": [
    "#transform integer label into one-hot encodings\n",
    "n_classes=12\n",
    "\n",
    "Ytrain_cat = keras.utils.to_categorical(Ytrain, n_classes)\n",
    "Yval_cat = keras.utils.to_categorical(Yval, n_classes)\n",
    "Ytest_cat = keras.utils.to_categorical(Ytest, n_classes)"
   ]
  },
  {
   "cell_type": "code",
   "execution_count": 102,
   "metadata": {
    "executionInfo": {
     "elapsed": 366,
     "status": "ok",
     "timestamp": 1624265018696,
     "user": {
      "displayName": "linda bianchini",
      "photoUrl": "",
      "userId": "12143919592352508291"
     },
     "user_tz": -120
    },
    "id": "-RFlGj7VoPv1"
   },
   "outputs": [],
   "source": [
    "Xtrain = np.asarray(Xtrain).astype('float32')\n",
    "Xval = np.asarray(Xval).astype('float32')"
   ]
  },
  {
   "cell_type": "code",
   "execution_count": 103,
   "metadata": {
    "colab": {
     "base_uri": "https://localhost:8080/"
    },
    "executionInfo": {
     "elapsed": 1278865,
     "status": "ok",
     "timestamp": 1624266304664,
     "user": {
      "displayName": "linda bianchini",
      "photoUrl": "",
      "userId": "12143919592352508291"
     },
     "user_tz": -120
    },
    "id": "4gbgXctloPZZ",
    "outputId": "c8046d26-19a9-4e6c-a09a-3a88535139e4"
   },
   "outputs": [
    {
     "name": "stderr",
     "output_type": "stream",
     "text": [
      "/usr/local/lib/python3.7/dist-packages/tensorflow/python/keras/optimizer_v2/optimizer_v2.py:375: UserWarning: The `lr` argument is deprecated, use `learning_rate` instead.\n",
      "  \"The `lr` argument is deprecated, use `learning_rate` instead.\")\n"
     ]
    },
    {
     "name": "stdout",
     "output_type": "stream",
     "text": [
      "Model: \"sequential_3\"\n",
      "_________________________________________________________________\n",
      "Layer (type)                 Output Shape              Param #   \n",
      "=================================================================\n",
      "conv1d_8 (Conv1D)            (None, 646, 64)           384       \n",
      "_________________________________________________________________\n",
      "conv1d_9 (Conv1D)            (None, 644, 128)          24704     \n",
      "_________________________________________________________________\n",
      "max_pooling1d_4 (MaxPooling1 (None, 322, 128)          0         \n",
      "_________________________________________________________________\n",
      "dropout_3 (Dropout)          (None, 322, 128)          0         \n",
      "_________________________________________________________________\n",
      "conv1d_10 (Conv1D)           (None, 310, 128)          213120    \n",
      "_________________________________________________________________\n",
      "conv1d_11 (Conv1D)           (None, 304, 256)          229632    \n",
      "_________________________________________________________________\n",
      "max_pooling1d_5 (MaxPooling1 (None, 152, 256)          0         \n",
      "_________________________________________________________________\n",
      "flatten_2 (Flatten)          (None, 38912)             0         \n",
      "_________________________________________________________________\n",
      "dense_2 (Dense)              (None, 12)                466956    \n",
      "_________________________________________________________________\n",
      "softmax_2 (Softmax)          (None, 12)                0         \n",
      "=================================================================\n",
      "Total params: 934,796\n",
      "Trainable params: 934,796\n",
      "Non-trainable params: 0\n",
      "_________________________________________________________________\n",
      "None\n",
      "Epoch 1/50\n",
      "813/813 [==============================] - 26s 32ms/step - loss: 1.4786 - accuracy: 0.5392 - val_loss: 0.8447 - val_accuracy: 0.7515\n",
      "Epoch 2/50\n",
      "813/813 [==============================] - 26s 32ms/step - loss: 0.5802 - accuracy: 0.8233 - val_loss: 0.3505 - val_accuracy: 0.8947\n",
      "Epoch 3/50\n",
      "813/813 [==============================] - 26s 31ms/step - loss: 0.3253 - accuracy: 0.9000 - val_loss: 0.2651 - val_accuracy: 0.9171\n",
      "Epoch 4/50\n",
      "813/813 [==============================] - 25s 31ms/step - loss: 0.2522 - accuracy: 0.9194 - val_loss: 0.2512 - val_accuracy: 0.9180\n",
      "Epoch 5/50\n",
      "813/813 [==============================] - 26s 32ms/step - loss: 0.2204 - accuracy: 0.9278 - val_loss: 0.1932 - val_accuracy: 0.9339\n",
      "Epoch 6/50\n",
      "813/813 [==============================] - 26s 31ms/step - loss: 0.1976 - accuracy: 0.9324 - val_loss: 0.1834 - val_accuracy: 0.9349\n",
      "Epoch 7/50\n",
      "813/813 [==============================] - 26s 31ms/step - loss: 0.1858 - accuracy: 0.9366 - val_loss: 0.1633 - val_accuracy: 0.9420\n",
      "Epoch 8/50\n",
      "813/813 [==============================] - 26s 31ms/step - loss: 0.1744 - accuracy: 0.9387 - val_loss: 0.1557 - val_accuracy: 0.9439\n",
      "Epoch 9/50\n",
      "813/813 [==============================] - 26s 31ms/step - loss: 0.1608 - accuracy: 0.9430 - val_loss: 0.1603 - val_accuracy: 0.9439\n",
      "Epoch 10/50\n",
      "813/813 [==============================] - 26s 31ms/step - loss: 0.1584 - accuracy: 0.9433 - val_loss: 0.1496 - val_accuracy: 0.9460\n",
      "Epoch 11/50\n",
      "813/813 [==============================] - 26s 31ms/step - loss: 0.1471 - accuracy: 0.9465 - val_loss: 0.1490 - val_accuracy: 0.9464\n",
      "Epoch 12/50\n",
      "813/813 [==============================] - 26s 31ms/step - loss: 0.1445 - accuracy: 0.9473 - val_loss: 0.1419 - val_accuracy: 0.9473\n",
      "Epoch 13/50\n",
      "813/813 [==============================] - 26s 31ms/step - loss: 0.1395 - accuracy: 0.9489 - val_loss: 0.1340 - val_accuracy: 0.9504\n",
      "Epoch 14/50\n",
      "813/813 [==============================] - 26s 31ms/step - loss: 0.1365 - accuracy: 0.9490 - val_loss: 0.1478 - val_accuracy: 0.9453\n",
      "Epoch 15/50\n",
      "813/813 [==============================] - 26s 31ms/step - loss: 0.1342 - accuracy: 0.9501 - val_loss: 0.1313 - val_accuracy: 0.9502\n",
      "Epoch 16/50\n",
      "813/813 [==============================] - 26s 31ms/step - loss: 0.1325 - accuracy: 0.9504 - val_loss: 0.1309 - val_accuracy: 0.9505\n",
      "Epoch 17/50\n",
      "813/813 [==============================] - 25s 31ms/step - loss: 0.1326 - accuracy: 0.9505 - val_loss: 0.1326 - val_accuracy: 0.9485\n",
      "Epoch 18/50\n",
      "813/813 [==============================] - 26s 31ms/step - loss: 0.1268 - accuracy: 0.9520 - val_loss: 0.1312 - val_accuracy: 0.9509\n",
      "Epoch 19/50\n",
      "813/813 [==============================] - 25s 31ms/step - loss: 0.1305 - accuracy: 0.9512 - val_loss: 0.1293 - val_accuracy: 0.9513\n",
      "Epoch 20/50\n",
      "813/813 [==============================] - 26s 31ms/step - loss: 0.1223 - accuracy: 0.9539 - val_loss: 0.1236 - val_accuracy: 0.9523\n",
      "Epoch 21/50\n",
      "813/813 [==============================] - 25s 31ms/step - loss: 0.1180 - accuracy: 0.9555 - val_loss: 0.1233 - val_accuracy: 0.9528\n",
      "Epoch 22/50\n",
      "813/813 [==============================] - 25s 31ms/step - loss: 0.1180 - accuracy: 0.9560 - val_loss: 0.1187 - val_accuracy: 0.9547\n",
      "Epoch 23/50\n",
      "813/813 [==============================] - 25s 31ms/step - loss: 0.0999 - accuracy: 0.9623 - val_loss: 0.0988 - val_accuracy: 0.9631\n",
      "Epoch 24/50\n",
      "813/813 [==============================] - 26s 31ms/step - loss: 0.0986 - accuracy: 0.9631 - val_loss: 0.0961 - val_accuracy: 0.9629\n",
      "Epoch 25/50\n",
      "813/813 [==============================] - 26s 31ms/step - loss: 0.0966 - accuracy: 0.9636 - val_loss: 0.0981 - val_accuracy: 0.9627\n",
      "Epoch 26/50\n",
      "813/813 [==============================] - 26s 31ms/step - loss: 0.0948 - accuracy: 0.9640 - val_loss: 0.0966 - val_accuracy: 0.9627\n",
      "Epoch 27/50\n",
      "813/813 [==============================] - 25s 31ms/step - loss: 0.0943 - accuracy: 0.9643 - val_loss: 0.0939 - val_accuracy: 0.9636\n",
      "Epoch 28/50\n",
      "813/813 [==============================] - 26s 31ms/step - loss: 0.0931 - accuracy: 0.9648 - val_loss: 0.1016 - val_accuracy: 0.9621\n",
      "Epoch 29/50\n",
      "813/813 [==============================] - 25s 31ms/step - loss: 0.0967 - accuracy: 0.9635 - val_loss: 0.0968 - val_accuracy: 0.9625\n",
      "Epoch 30/50\n",
      "813/813 [==============================] - 25s 31ms/step - loss: 0.0952 - accuracy: 0.9640 - val_loss: 0.0949 - val_accuracy: 0.9631\n",
      "Epoch 31/50\n",
      "813/813 [==============================] - 26s 31ms/step - loss: 0.0920 - accuracy: 0.9650 - val_loss: 0.0934 - val_accuracy: 0.9631\n",
      "Epoch 32/50\n",
      "813/813 [==============================] - 26s 31ms/step - loss: 0.0924 - accuracy: 0.9648 - val_loss: 0.0975 - val_accuracy: 0.9625\n",
      "Epoch 33/50\n",
      "813/813 [==============================] - 26s 31ms/step - loss: 0.0924 - accuracy: 0.9650 - val_loss: 0.0945 - val_accuracy: 0.9635\n",
      "Epoch 34/50\n",
      "813/813 [==============================] - 26s 31ms/step - loss: 0.0935 - accuracy: 0.9642 - val_loss: 0.0934 - val_accuracy: 0.9636\n",
      "Epoch 35/50\n",
      "813/813 [==============================] - 26s 32ms/step - loss: 0.0905 - accuracy: 0.9652 - val_loss: 0.0944 - val_accuracy: 0.9635\n",
      "Epoch 36/50\n",
      "813/813 [==============================] - 26s 32ms/step - loss: 0.0895 - accuracy: 0.9655 - val_loss: 0.0927 - val_accuracy: 0.9637\n",
      "Epoch 37/50\n",
      "813/813 [==============================] - 26s 32ms/step - loss: 0.0892 - accuracy: 0.9655 - val_loss: 0.0932 - val_accuracy: 0.9640\n",
      "Epoch 38/50\n",
      "813/813 [==============================] - 26s 32ms/step - loss: 0.0890 - accuracy: 0.9655 - val_loss: 0.0926 - val_accuracy: 0.9640\n",
      "Epoch 39/50\n",
      "813/813 [==============================] - 26s 31ms/step - loss: 0.0886 - accuracy: 0.9658 - val_loss: 0.0944 - val_accuracy: 0.9631\n",
      "Epoch 40/50\n",
      "813/813 [==============================] - 26s 32ms/step - loss: 0.0900 - accuracy: 0.9654 - val_loss: 0.0931 - val_accuracy: 0.9640\n",
      "Epoch 41/50\n",
      "813/813 [==============================] - 26s 32ms/step - loss: 0.0922 - accuracy: 0.9646 - val_loss: 0.0914 - val_accuracy: 0.9641\n",
      "Epoch 42/50\n",
      "813/813 [==============================] - 26s 32ms/step - loss: 0.0894 - accuracy: 0.9655 - val_loss: 0.0923 - val_accuracy: 0.9640\n",
      "Epoch 43/50\n",
      "813/813 [==============================] - 26s 31ms/step - loss: 0.0920 - accuracy: 0.9650 - val_loss: 0.0983 - val_accuracy: 0.9625\n",
      "Epoch 44/50\n",
      "813/813 [==============================] - 26s 31ms/step - loss: 0.0936 - accuracy: 0.9645 - val_loss: 0.0912 - val_accuracy: 0.9641\n",
      "Epoch 45/50\n",
      "813/813 [==============================] - 25s 31ms/step - loss: 0.0909 - accuracy: 0.9651 - val_loss: 0.0925 - val_accuracy: 0.9639\n",
      "Epoch 46/50\n",
      "813/813 [==============================] - 26s 31ms/step - loss: 0.0916 - accuracy: 0.9649 - val_loss: 0.0932 - val_accuracy: 0.9637\n",
      "Epoch 47/50\n",
      "813/813 [==============================] - 26s 31ms/step - loss: 0.0881 - accuracy: 0.9659 - val_loss: 0.0918 - val_accuracy: 0.9641\n",
      "Epoch 48/50\n",
      "813/813 [==============================] - 26s 31ms/step - loss: 0.0886 - accuracy: 0.9659 - val_loss: 0.0925 - val_accuracy: 0.9641\n",
      "Epoch 49/50\n",
      "813/813 [==============================] - 26s 31ms/step - loss: 0.0876 - accuracy: 0.9660 - val_loss: 0.0918 - val_accuracy: 0.9641\n",
      "Epoch 50/50\n",
      "813/813 [==============================] - 26s 32ms/step - loss: 0.0875 - accuracy: 0.9660 - val_loss: 0.0908 - val_accuracy: 0.9641\n"
     ]
    }
   ],
   "source": [
    "opt = optimizers.SGD(lr = 0.01, momentum = 0.9, nesterov = True, decay = 1e-6)\n",
    "model2 = create_model(opt)\n",
    "\n",
    "fit = model2.fit(Xtrain, Ytrain_cat,\n",
    "               batch_size = batch_size, epochs = epochs,\n",
    "               validation_data = (Xval, Yval_cat),\n",
    "               verbose = 1, shuffle = True)\n",
    "\n",
    "SGD2 = np.array((fit.history[\"accuracy\"],\n",
    "                       fit.history['val_' + \"accuracy\"],\n",
    "                       fit.history[\"loss\"], fit.history['val_' + \"loss\"]))"
   ]
  },
  {
   "cell_type": "code",
   "execution_count": 104,
   "metadata": {
    "colab": {
     "base_uri": "https://localhost:8080/",
     "height": 623
    },
    "executionInfo": {
     "elapsed": 653,
     "status": "ok",
     "timestamp": 1624267336819,
     "user": {
      "displayName": "linda bianchini",
      "photoUrl": "",
      "userId": "12143919592352508291"
     },
     "user_tz": -120
    },
    "id": "aXhm91zVgY7b",
    "outputId": "9181f809-2578-4e69-8abe-d273881746ca"
   },
   "outputs": [
    {
     "data": {
      "image/png": "[encoded data removed]",
      "text/plain": [
       "<Figure size 576x360 with 1 Axes>"
      ]
     },
     "metadata": {
      "tags": []
     },
     "output_type": "display_data"
    },
    {
     "data": {
      "image/png": "[encoded data removed]",
      "text/plain": [
       "<Figure size 576x360 with 1 Axes>"
      ]
     },
     "metadata": {
      "tags": []
     },
     "output_type": "display_data"
    }
   ],
   "source": [
    "i=0\n",
    "plt.plot(SGD2[i], 'r', label = 'accuracy of training data SGD')\n",
    "plt.plot(SGD2[i+1], 'r--', label = 'accuracy of validation data SGD', alpha=0.5)\n",
    "plt.legend() \n",
    "plt.show()\n",
    "\n",
    "i=2\n",
    "plt.plot(SGD2[i], 'r', label = 'loss of training data SGD')\n",
    "plt.plot(SGD2[i+1], 'r--', label = 'loss of validation data SGD', alpha=0.5)\n",
    "plt.legend() \n",
    "plt.show()"
   ]
  },
  {
   "cell_type": "code",
   "execution_count": 105,
   "metadata": {
    "colab": {
     "base_uri": "https://localhost:8080/",
     "height": 341
    },
    "executionInfo": {
     "elapsed": 2772,
     "status": "ok",
     "timestamp": 1624267351207,
     "user": {
      "displayName": "linda bianchini",
      "photoUrl": "",
      "userId": "12143919592352508291"
     },
     "user_tz": -120
    },
    "id": "GBRAZzTqgYpI",
    "outputId": "06ba4197-3e05-415e-b68c-83b68f5a6158"
   },
   "outputs": [
    {
     "data": {
      "image/png": "[encoded data removed]",
      "text/plain": [
       "<Figure size 576x360 with 2 Axes>"
      ]
     },
     "metadata": {
      "tags": []
     },
     "output_type": "display_data"
    }
   ],
   "source": [
    "import sklearn.metrics as skm\n",
    "from sklearn.metrics import plot_confusion_matrix\n",
    "\n",
    "test = Xtest.reshape(Xtest.shape[0],Xtest[0].size,1)\n",
    "y_val_vect = Ytest.astype(int)\n",
    "y_predict  = np.argmax(model2.predict(test.astype(float)), axis=-1)\n",
    "\n",
    "confusion_matrix  = skm.confusion_matrix(y_val_vect ,y_predict, normalize='true')\n",
    "\n",
    "ax = sns.heatmap(confusion_matrix, annot=True, fmt = '.2f', cmap=\"YlGnBu\")\n",
    "ax.set_title('SGD No reg', fontsize=20)\n",
    "plt.show()"
   ]
  },
  {
   "cell_type": "markdown",
   "metadata": {},
   "source": [
    "Come vediamo dai grafici dell'accuracy e della loss non si osserva overfitting ma applicando la confusion matrix ai dati di test vediamo che il modello sbaglia nell'identificazione dei label 8, 9, 10 (P, L, IP) confondendoli con quelli sani H."
   ]
  },
  {
   "cell_type": "markdown",
   "metadata": {
    "id": "LrPrbr6no6NY"
   },
   "source": [
    "# Rete con data augmentation\n",
    "Si opera una data augmentation per rendere uniforme il nostro dataset ed evitare il mismatch dei dati."
   ]
  },
  {
   "cell_type": "code",
   "execution_count": 106,
   "metadata": {
    "executionInfo": {
     "elapsed": 676,
     "status": "ok",
     "timestamp": 1624267451157,
     "user": {
      "displayName": "linda bianchini",
      "photoUrl": "",
      "userId": "12143919592352508291"
     },
     "user_tz": -120
    },
    "id": "aSTvD6j0oxp3"
   },
   "outputs": [],
   "source": [
    "Xtrain = []\n",
    "Ytrain = []\n",
    "Xval = []\n",
    "Yval = []\n",
    "Xtest = []\n",
    "Ytest = []\n",
    "for i in X_train_index:\n",
    "    Xtrain.append(X_total[i])\n",
    "    Ytrain.append(Y_total[i])\n",
    "for i in X_test_index:\n",
    "    Xtest.append(X_total[i])\n",
    "    Ytest.append(Y_total[i])\n",
    "for i in X_val_index:\n",
    "    Xval.append(X_total[i])\n",
    "    Yval.append(Y_total[i])\n",
    "    \n",
    "Xtrain = np.array(Xtrain, dtype=object)\n",
    "Ytrain = np.array(Ytrain, dtype=object)\n",
    "Xtest = np.array(Xtest, dtype=object)\n",
    "Ytest = np.array(Ytest, dtype=object)\n",
    "Xval = np.array(Xval, dtype=object)\n",
    "Yval = np.array(Yval, dtype=object)"
   ]
  },
  {
   "cell_type": "code",
   "execution_count": 107,
   "metadata": {
    "executionInfo": {
     "elapsed": 780,
     "status": "ok",
     "timestamp": 1624267455148,
     "user": {
      "displayName": "linda bianchini",
      "photoUrl": "",
      "userId": "12143919592352508291"
     },
     "user_tz": -120
    },
    "id": "wPtoKhZF6VLL"
   },
   "outputs": [],
   "source": [
    "#Applico una maschera sui vettori Xtrain. Seleziono quelli con un determinato label\n",
    "df_0  = Xtrain[Ytrain == 0]\n",
    "df_1  = Xtrain[Ytrain == 1]\n",
    "df_2  = Xtrain[Ytrain == 2]\n",
    "df_3  = Xtrain[Ytrain == 3]\n",
    "df_4  = Xtrain[Ytrain == 4]\n",
    "df_5  = Xtrain[Ytrain == 5]\n",
    "df_6  = Xtrain[Ytrain == 6]\n",
    "df_7  = Xtrain[Ytrain == 7]\n",
    "df_8  = Xtrain[Ytrain == 8]\n",
    "df_9  = Xtrain[Ytrain == 9]\n",
    "df_10 = Xtrain[Ytrain == 10]\n",
    "df_11 = Xtrain[Ytrain == 11]"
   ]
  },
  {
   "cell_type": "code",
   "execution_count": 108,
   "metadata": {
    "executionInfo": {
     "elapsed": 539,
     "status": "ok",
     "timestamp": 1624267457812,
     "user": {
      "displayName": "linda bianchini",
      "photoUrl": "",
      "userId": "12143919592352508291"
     },
     "user_tz": -120
    },
    "id": "xksHMvNT6VLM"
   },
   "outputs": [],
   "source": [
    "#data augmentation\n",
    "from sklearn.utils import resample\n",
    "\n",
    "df_0_upsample = resample(df_0, n_samples = 10000, replace = True, random_state = 123)\n",
    "df_1_upsample = resample(df_1, n_samples = 10000, replace = True, random_state = 123)\n",
    "df_2_upsample = resample(df_2, n_samples = 10000, replace = True, random_state = 123)\n",
    "df_3_upsample = resample(df_3, n_samples = 10000, replace = True, random_state = 123)\n",
    "df_6_upsample = resample(df_6, n_samples = 10000, replace = True, random_state = 123)\n",
    "df_7_upsample = resample(df_7, n_samples = 10000, replace = True, random_state = 123)\n",
    "df_8_upsample = resample(df_8, n_samples = 10000, replace = True, random_state = 123)\n",
    "df_9_upsample = resample(df_9, n_samples = 10000, replace = True, random_state = 123)\n",
    "df_10_upsample = resample(df_10, n_samples = 10000, replace = True, random_state = 123)\n",
    "df_11_upsample = resample(df_11, n_samples = 10000, replace = True, random_state = 123)"
   ]
  },
  {
   "cell_type": "code",
   "execution_count": 109,
   "metadata": {
    "executionInfo": {
     "elapsed": 426,
     "status": "ok",
     "timestamp": 1624267460405,
     "user": {
      "displayName": "linda bianchini",
      "photoUrl": "",
      "userId": "12143919592352508291"
     },
     "user_tz": -120
    },
    "id": "h1Wtjxc26VLM"
   },
   "outputs": [],
   "source": [
    "df_4_downsample = resample(df_4, n_samples = 10000, replace = False, random_state = 123)\n",
    "df_5_downsample = resample(df_5, n_samples = 10000, replace = False, random_state = 123)"
   ]
  },
  {
   "cell_type": "code",
   "execution_count": 110,
   "metadata": {
    "executionInfo": {
     "elapsed": 1481,
     "status": "ok",
     "timestamp": 1624267464155,
     "user": {
      "displayName": "linda bianchini",
      "photoUrl": "",
      "userId": "12143919592352508291"
     },
     "user_tz": -120
    },
    "id": "j-uFcPzf6VLN"
   },
   "outputs": [],
   "source": [
    "train_df=np.concatenate((df_0_upsample, df_1_upsample, df_2_upsample, df_3_upsample, df_4_downsample, df_5_downsample, df_6_upsample, df_7_upsample, df_8_upsample, df_9_upsample, df_10_upsample, df_11_upsample))\n",
    "Xtrain = train_df\n",
    "Ytrain_df=[]\n",
    "for h in range(12):\n",
    "    for i in range(10000):\n",
    "        Ytrain_df.append(h) \n",
    "        \n",
    "Ytrain_df=np.array(Ytrain_df)\n",
    "Ytrain = Ytrain_df"
   ]
  },
  {
   "cell_type": "code",
   "execution_count": 111,
   "metadata": {
    "colab": {
     "base_uri": "https://localhost:8080/",
     "height": 407
    },
    "executionInfo": {
     "elapsed": 370,
     "status": "ok",
     "timestamp": 1624267466263,
     "user": {
      "displayName": "linda bianchini",
      "photoUrl": "",
      "userId": "12143919592352508291"
     },
     "user_tz": -120
    },
    "id": "02XXsRMX6VLN",
    "outputId": "7734e73f-b5dd-43ff-b33d-1fd5ec5226ad"
   },
   "outputs": [
    {
     "data": {
      "text/plain": [
       "(array([10000., 10000., 10000., 10000., 10000., 10000., 10000., 10000.,\n",
       "        10000., 10000., 10000., 10000.]),\n",
       " array([-0.5,  0.5,  1.5,  2.5,  3.5,  4.5,  5.5,  6.5,  7.5,  8.5,  9.5,\n",
       "        10.5, 11.5]),\n",
       " <a list of 12 Patch objects>)"
      ]
     },
     "execution_count": 111,
     "metadata": {
      "tags": []
     },
     "output_type": "execute_result"
    },
    {
     "data": {
      "image/png": "[encoded data removed]",
      "text/plain": [
       "<Figure size 576x360 with 1 Axes>"
      ]
     },
     "metadata": {
      "tags": []
     },
     "output_type": "display_data"
    }
   ],
   "source": [
    "plt.hist(Ytrain,n, color = (\"hotpink\"))"
   ]
  },
  {
   "cell_type": "code",
   "execution_count": 112,
   "metadata": {
    "colab": {
     "base_uri": "https://localhost:8080/",
     "height": 575
    },
    "executionInfo": {
     "elapsed": 787,
     "status": "ok",
     "timestamp": 1624267470893,
     "user": {
      "displayName": "linda bianchini",
      "photoUrl": "",
      "userId": "12143919592352508291"
     },
     "user_tz": -120
    },
    "id": "exWM0ILU6VLO",
    "outputId": "cf875ec1-8876-4f35-a5d1-a785b5259313"
   },
   "outputs": [
    {
     "data": {
      "image/png": "[encoded data removed]",
      "text/plain": [
       "<Figure size 720x720 with 1 Axes>"
      ]
     },
     "metadata": {
      "tags": []
     },
     "output_type": "display_data"
    }
   ],
   "source": [
    "num_class = np.zeros(12)\n",
    "for i in Ytrain:\n",
    "    for j in range(12):\n",
    "        if i==j:\n",
    "            num_class[j]+=1\n",
    "\n",
    "plt.figure(figsize= (10,10))\n",
    "my_circle = plt.Circle((0,0), 0.7, color = 'white')\n",
    "\n",
    "plt.pie(num_class, labels=['H', 'A', 'IL', 'AL', 'I', 'AS', 'IPL', 'PL', 'P', 'L', 'IP', 'ASL'], autopct = '%0.0f%%')\n",
    "p = plt.gcf()\n",
    "p.gca().add_artist(my_circle)\n",
    "plt.show()"
   ]
  },
  {
   "cell_type": "code",
   "execution_count": 113,
   "metadata": {
    "colab": {
     "base_uri": "https://localhost:8080/"
    },
    "executionInfo": {
     "elapsed": 339,
     "status": "ok",
     "timestamp": 1624267481276,
     "user": {
      "displayName": "linda bianchini",
      "photoUrl": "",
      "userId": "12143919592352508291"
     },
     "user_tz": -120
    },
    "id": "a6g0FshY6VLi",
    "outputId": "ed6706e9-43f9-46b7-dbf0-104c0120a5d8"
   },
   "outputs": [
    {
     "name": "stdout",
     "output_type": "stream",
     "text": [
      "shape train before:  (120000, 650)\n",
      "shape train after:  (120000, 650, 1)\n",
      "shape validation before:  (7635, 650)\n",
      "shape validation before:  (7635, 650, 1)\n"
     ]
    }
   ],
   "source": [
    "print('shape train before: ',Xtrain.shape)\n",
    "Xtrain = Xtrain.reshape(Xtrain.shape[0],Xtrain[0].size,1)\n",
    "print('shape train after: ',Xtrain.shape)\n",
    "print('shape validation before: ',Xval.shape)\n",
    "Xval = Xval.reshape(Xval.shape[0],Xval[0].size,1)\n",
    "print('shape validation before: ',Xval.shape)\n",
    "input_shape = (Xtrain[0].size,1)\n",
    "\n",
    "batch_size = 64\n",
    "epochs = 50"
   ]
  },
  {
   "cell_type": "code",
   "execution_count": 114,
   "metadata": {
    "executionInfo": {
     "elapsed": 422,
     "status": "ok",
     "timestamp": 1624267485599,
     "user": {
      "displayName": "linda bianchini",
      "photoUrl": "",
      "userId": "12143919592352508291"
     },
     "user_tz": -120
    },
    "id": "tlNk1iRd6VLj"
   },
   "outputs": [],
   "source": [
    "#transform integer label into one-hot encodings\n",
    "n_classes=12\n",
    "\n",
    "Ytrain_cat = keras.utils.to_categorical(Ytrain, n_classes)\n",
    "Yval_cat = keras.utils.to_categorical(Yval, n_classes)\n",
    "Ytest_cat = keras.utils.to_categorical(Ytest, n_classes)"
   ]
  },
  {
   "cell_type": "code",
   "execution_count": 116,
   "metadata": {
    "executionInfo": {
     "elapsed": 297,
     "status": "ok",
     "timestamp": 1624267555379,
     "user": {
      "displayName": "linda bianchini",
      "photoUrl": "",
      "userId": "12143919592352508291"
     },
     "user_tz": -120
    },
    "id": "2UszXcuU6VLj"
   },
   "outputs": [],
   "source": [
    "Xtrain = np.asarray(Xtrain).astype('float32')\n",
    "Xval = np.asarray(Xval).astype('float32')"
   ]
  },
  {
   "cell_type": "code",
   "execution_count": 117,
   "metadata": {
    "colab": {
     "base_uri": "https://localhost:8080/"
    },
    "executionInfo": {
     "elapsed": 2844765,
     "status": "ok",
     "timestamp": 1624270402227,
     "user": {
      "displayName": "linda bianchini",
      "photoUrl": "",
      "userId": "12143919592352508291"
     },
     "user_tz": -120
    },
    "id": "SkgS8mmR6VLk",
    "outputId": "16544e44-43b3-45c3-ac37-b3c664b0d041"
   },
   "outputs": [
    {
     "name": "stderr",
     "output_type": "stream",
     "text": [
      "/usr/local/lib/python3.7/dist-packages/tensorflow/python/keras/optimizer_v2/optimizer_v2.py:375: UserWarning: The `lr` argument is deprecated, use `learning_rate` instead.\n",
      "  \"The `lr` argument is deprecated, use `learning_rate` instead.\")\n"
     ]
    },
    {
     "name": "stdout",
     "output_type": "stream",
     "text": [
      "Model: \"sequential_5\"\n",
      "_________________________________________________________________\n",
      "Layer (type)                 Output Shape              Param #   \n",
      "=================================================================\n",
      "conv1d_16 (Conv1D)           (None, 646, 64)           384       \n",
      "_________________________________________________________________\n",
      "conv1d_17 (Conv1D)           (None, 644, 128)          24704     \n",
      "_________________________________________________________________\n",
      "max_pooling1d_8 (MaxPooling1 (None, 322, 128)          0         \n",
      "_________________________________________________________________\n",
      "dropout_5 (Dropout)          (None, 322, 128)          0         \n",
      "_________________________________________________________________\n",
      "conv1d_18 (Conv1D)           (None, 310, 128)          213120    \n",
      "_________________________________________________________________\n",
      "conv1d_19 (Conv1D)           (None, 304, 256)          229632    \n",
      "_________________________________________________________________\n",
      "max_pooling1d_9 (MaxPooling1 (None, 152, 256)          0         \n",
      "_________________________________________________________________\n",
      "flatten_4 (Flatten)          (None, 38912)             0         \n",
      "_________________________________________________________________\n",
      "dense_4 (Dense)              (None, 12)                466956    \n",
      "_________________________________________________________________\n",
      "softmax_4 (Softmax)          (None, 12)                0         \n",
      "=================================================================\n",
      "Total params: 934,796\n",
      "Trainable params: 934,796\n",
      "Non-trainable params: 0\n",
      "_________________________________________________________________\n",
      "None\n",
      "Epoch 1/50\n",
      "1875/1875 [==============================] - 58s 31ms/step - loss: 1.1637 - accuracy: 0.5967 - val_loss: 0.5750 - val_accuracy: 0.8186\n",
      "Epoch 2/50\n",
      "1875/1875 [==============================] - 57s 31ms/step - loss: 0.7217 - accuracy: 0.7338 - val_loss: 0.3979 - val_accuracy: 0.8728\n",
      "Epoch 3/50\n",
      "1875/1875 [==============================] - 59s 31ms/step - loss: 0.6684 - accuracy: 0.7500 - val_loss: 0.3529 - val_accuracy: 0.8855\n",
      "Epoch 4/50\n",
      "1875/1875 [==============================] - 57s 31ms/step - loss: 0.6371 - accuracy: 0.7590 - val_loss: 0.2963 - val_accuracy: 0.9069\n",
      "Epoch 5/50\n",
      "1875/1875 [==============================] - 57s 31ms/step - loss: 0.5993 - accuracy: 0.7729 - val_loss: 0.2408 - val_accuracy: 0.9240\n",
      "Epoch 6/50\n",
      "1875/1875 [==============================] - 57s 30ms/step - loss: 0.5725 - accuracy: 0.7819 - val_loss: 0.2147 - val_accuracy: 0.9311\n",
      "Epoch 7/50\n",
      "1875/1875 [==============================] - 57s 31ms/step - loss: 0.5660 - accuracy: 0.7837 - val_loss: 0.2279 - val_accuracy: 0.9270\n",
      "Epoch 8/50\n",
      "1875/1875 [==============================] - 57s 31ms/step - loss: 0.5618 - accuracy: 0.7848 - val_loss: 0.2183 - val_accuracy: 0.9306\n",
      "Epoch 9/50\n",
      "1875/1875 [==============================] - 57s 31ms/step - loss: 0.5276 - accuracy: 0.7981 - val_loss: 0.1758 - val_accuracy: 0.9460\n",
      "Epoch 10/50\n",
      "1875/1875 [==============================] - 57s 31ms/step - loss: 0.5208 - accuracy: 0.8002 - val_loss: 0.1861 - val_accuracy: 0.9449\n",
      "Epoch 11/50\n",
      "1875/1875 [==============================] - 57s 31ms/step - loss: 0.5124 - accuracy: 0.8025 - val_loss: 0.1606 - val_accuracy: 0.9488\n",
      "Epoch 12/50\n",
      "1875/1875 [==============================] - 57s 31ms/step - loss: 0.5060 - accuracy: 0.8028 - val_loss: 0.1480 - val_accuracy: 0.9515\n",
      "Epoch 13/50\n",
      "1875/1875 [==============================] - 57s 31ms/step - loss: 0.5034 - accuracy: 0.8033 - val_loss: 0.1414 - val_accuracy: 0.9522\n",
      "Epoch 14/50\n",
      "1875/1875 [==============================] - 57s 30ms/step - loss: 0.5009 - accuracy: 0.8041 - val_loss: 0.1483 - val_accuracy: 0.9522\n",
      "Epoch 15/50\n",
      "1875/1875 [==============================] - 57s 30ms/step - loss: 0.4999 - accuracy: 0.8044 - val_loss: 0.1423 - val_accuracy: 0.9525\n",
      "Epoch 16/50\n",
      "1875/1875 [==============================] - 57s 30ms/step - loss: 0.4974 - accuracy: 0.8050 - val_loss: 0.1390 - val_accuracy: 0.9531\n",
      "Epoch 17/50\n",
      "1875/1875 [==============================] - 56s 30ms/step - loss: 0.4972 - accuracy: 0.8048 - val_loss: 0.1407 - val_accuracy: 0.9531\n",
      "Epoch 18/50\n",
      "1875/1875 [==============================] - 56s 30ms/step - loss: 0.4953 - accuracy: 0.8054 - val_loss: 0.1361 - val_accuracy: 0.9538\n",
      "Epoch 19/50\n",
      "1875/1875 [==============================] - 57s 30ms/step - loss: 0.4957 - accuracy: 0.8053 - val_loss: 0.1451 - val_accuracy: 0.9519\n",
      "Epoch 20/50\n",
      "1875/1875 [==============================] - 56s 30ms/step - loss: 0.4964 - accuracy: 0.8051 - val_loss: 0.1394 - val_accuracy: 0.9540\n",
      "Epoch 21/50\n",
      "1875/1875 [==============================] - 56s 30ms/step - loss: 0.4947 - accuracy: 0.8055 - val_loss: 0.1373 - val_accuracy: 0.9542\n",
      "Epoch 22/50\n",
      "1875/1875 [==============================] - 56s 30ms/step - loss: 0.4939 - accuracy: 0.8057 - val_loss: 0.1347 - val_accuracy: 0.9551\n",
      "Epoch 23/50\n",
      "1875/1875 [==============================] - 56s 30ms/step - loss: 0.4937 - accuracy: 0.8058 - val_loss: 0.1364 - val_accuracy: 0.9547\n",
      "Epoch 24/50\n",
      "1875/1875 [==============================] - 56s 30ms/step - loss: 0.4937 - accuracy: 0.8059 - val_loss: 0.1334 - val_accuracy: 0.9551\n",
      "Epoch 25/50\n",
      "1875/1875 [==============================] - 56s 30ms/step - loss: 0.4934 - accuracy: 0.8059 - val_loss: 0.1347 - val_accuracy: 0.9548\n",
      "Epoch 26/50\n",
      "1875/1875 [==============================] - 56s 30ms/step - loss: 0.4925 - accuracy: 0.8061 - val_loss: 0.1350 - val_accuracy: 0.9549\n",
      "Epoch 27/50\n",
      "1875/1875 [==============================] - 56s 30ms/step - loss: 0.4944 - accuracy: 0.8058 - val_loss: 0.1368 - val_accuracy: 0.9549\n",
      "Epoch 28/50\n",
      "1875/1875 [==============================] - 57s 30ms/step - loss: 0.4942 - accuracy: 0.8056 - val_loss: 0.1366 - val_accuracy: 0.9540\n",
      "Epoch 29/50\n",
      "1875/1875 [==============================] - 57s 30ms/step - loss: 0.4934 - accuracy: 0.8060 - val_loss: 0.1386 - val_accuracy: 0.9540\n",
      "Epoch 30/50\n",
      "1875/1875 [==============================] - 57s 30ms/step - loss: 0.4940 - accuracy: 0.8058 - val_loss: 0.1336 - val_accuracy: 0.9555\n",
      "Epoch 31/50\n",
      "1875/1875 [==============================] - 57s 30ms/step - loss: 0.4916 - accuracy: 0.8065 - val_loss: 0.1321 - val_accuracy: 0.9553\n",
      "Epoch 32/50\n",
      "1875/1875 [==============================] - 57s 30ms/step - loss: 0.4922 - accuracy: 0.8063 - val_loss: 0.1386 - val_accuracy: 0.9542\n",
      "Epoch 33/50\n",
      "1875/1875 [==============================] - 57s 30ms/step - loss: 0.4922 - accuracy: 0.8063 - val_loss: 0.1355 - val_accuracy: 0.9555\n",
      "Epoch 34/50\n",
      "1875/1875 [==============================] - 57s 30ms/step - loss: 0.4913 - accuracy: 0.8065 - val_loss: 0.1363 - val_accuracy: 0.9555\n",
      "Epoch 35/50\n",
      "1875/1875 [==============================] - 57s 30ms/step - loss: 0.4945 - accuracy: 0.8057 - val_loss: 0.1409 - val_accuracy: 0.9540\n",
      "Epoch 36/50\n",
      "1875/1875 [==============================] - 57s 30ms/step - loss: 0.4923 - accuracy: 0.8063 - val_loss: 0.1341 - val_accuracy: 0.9555\n",
      "Epoch 37/50\n",
      "1875/1875 [==============================] - 57s 30ms/step - loss: 0.4912 - accuracy: 0.8067 - val_loss: 0.1309 - val_accuracy: 0.9570\n",
      "Epoch 38/50\n",
      "1875/1875 [==============================] - 57s 30ms/step - loss: 0.4908 - accuracy: 0.8068 - val_loss: 0.1314 - val_accuracy: 0.9572\n",
      "Epoch 39/50\n",
      "1875/1875 [==============================] - 57s 30ms/step - loss: 0.4901 - accuracy: 0.8070 - val_loss: 0.1290 - val_accuracy: 0.9569\n",
      "Epoch 40/50\n",
      "1875/1875 [==============================] - 57s 30ms/step - loss: 0.4899 - accuracy: 0.8070 - val_loss: 0.1317 - val_accuracy: 0.9572\n",
      "Epoch 41/50\n",
      "1875/1875 [==============================] - 57s 30ms/step - loss: 0.4910 - accuracy: 0.8066 - val_loss: 0.1312 - val_accuracy: 0.9569\n",
      "Epoch 42/50\n",
      "1875/1875 [==============================] - 57s 30ms/step - loss: 0.4898 - accuracy: 0.8070 - val_loss: 0.1291 - val_accuracy: 0.9570\n",
      "Epoch 43/50\n",
      "1875/1875 [==============================] - 57s 30ms/step - loss: 0.4921 - accuracy: 0.8064 - val_loss: 0.1365 - val_accuracy: 0.9556\n",
      "Epoch 44/50\n",
      "1875/1875 [==============================] - 57s 30ms/step - loss: 0.4920 - accuracy: 0.8064 - val_loss: 0.1341 - val_accuracy: 0.9560\n",
      "Epoch 45/50\n",
      "1875/1875 [==============================] - 57s 30ms/step - loss: 0.4912 - accuracy: 0.8067 - val_loss: 0.1324 - val_accuracy: 0.9568\n",
      "Epoch 46/50\n",
      "1875/1875 [==============================] - 57s 30ms/step - loss: 0.4914 - accuracy: 0.8066 - val_loss: 0.1342 - val_accuracy: 0.9563\n",
      "Epoch 47/50\n",
      "1875/1875 [==============================] - 57s 30ms/step - loss: 0.4902 - accuracy: 0.8069 - val_loss: 0.1328 - val_accuracy: 0.9566\n",
      "Epoch 48/50\n",
      "1875/1875 [==============================] - 57s 30ms/step - loss: 0.4905 - accuracy: 0.8069 - val_loss: 0.1323 - val_accuracy: 0.9570\n",
      "Epoch 49/50\n",
      "1875/1875 [==============================] - 57s 30ms/step - loss: 0.4893 - accuracy: 0.8074 - val_loss: 0.1293 - val_accuracy: 0.9577\n",
      "Epoch 50/50\n",
      "1875/1875 [==============================] - 57s 30ms/step - loss: 0.4882 - accuracy: 0.8078 - val_loss: 0.1298 - val_accuracy: 0.9576\n"
     ]
    }
   ],
   "source": [
    "# regl1 = regularizers.l1(0.01)\n",
    "np.random.seed(12345)\n",
    "# ini = initializers.RandomNormal(mean = 0, stddev = 0.05)\n",
    "opt = optimizers.SGD(lr = 0.01, momentum = 0.9, nesterov = True, decay = 1e-6)\n",
    "model0 = create_model(opt)\n",
    "\n",
    "fit = model0.fit(Xtrain, Ytrain_cat,\n",
    "               batch_size = batch_size, epochs = epochs,\n",
    "               validation_data = (Xval, Yval_cat),\n",
    "               verbose = 1, shuffle = True)\n",
    "\n",
    "SGD0 = np.array((fit.history[\"accuracy\"],\n",
    "                       fit.history['val_' + \"accuracy\"],\n",
    "                       fit.history[\"loss\"], fit.history['val_' + \"loss\"]))"
   ]
  },
  {
   "cell_type": "code",
   "execution_count": 118,
   "metadata": {
    "colab": {
     "base_uri": "https://localhost:8080/",
     "height": 623
    },
    "executionInfo": {
     "elapsed": 647,
     "status": "ok",
     "timestamp": 1624270734939,
     "user": {
      "displayName": "linda bianchini",
      "photoUrl": "",
      "userId": "12143919592352508291"
     },
     "user_tz": -120
    },
    "id": "_0kKAa6J6VLk",
    "outputId": "8579edc1-0503-46e0-81ba-e027e2ee731d"
   },
   "outputs": [
    {
     "data": {
      "image/png": "[encoded data removed]",
      "text/plain": [
       "<Figure size 576x360 with 1 Axes>"
      ]
     },
     "metadata": {
      "tags": []
     },
     "output_type": "display_data"
    },
    {
     "data": {
      "image/png": "[encoded data removed]",
      "text/plain": [
       "<Figure size 576x360 with 1 Axes>"
      ]
     },
     "metadata": {
      "tags": []
     },
     "output_type": "display_data"
    }
   ],
   "source": [
    "i=0\n",
    "plt.plot(SGD0[i], 'r', label = 'accuracy of training data SGD')\n",
    "plt.plot(SGD0[i+1], 'r--', label = 'accuracy of validation data SGD', alpha=0.5)\n",
    "plt.legend() \n",
    "plt.show()\n",
    "\n",
    "i=2\n",
    "plt.plot(SGD0[i], 'r', label = 'loss of training data SGD')\n",
    "plt.plot(SGD0[i+1], 'r--', label = 'loss of validation data SGD', alpha=0.5)\n",
    "plt.legend() \n",
    "plt.show()"
   ]
  },
  {
   "cell_type": "code",
   "execution_count": 119,
   "metadata": {
    "colab": {
     "base_uri": "https://localhost:8080/",
     "height": 341
    },
    "executionInfo": {
     "elapsed": 3575,
     "status": "ok",
     "timestamp": 1624270749728,
     "user": {
      "displayName": "linda bianchini",
      "photoUrl": "",
      "userId": "12143919592352508291"
     },
     "user_tz": -120
    },
    "id": "K7KjWvLR6VLl",
    "outputId": "d66f2de2-4e82-4a25-a79e-9cc1d46a09b7"
   },
   "outputs": [
    {
     "data": {
      "image/png": "[encoded data removed]",
      "text/plain": [
       "<Figure size 576x360 with 2 Axes>"
      ]
     },
     "metadata": {
      "tags": []
     },
     "output_type": "display_data"
    }
   ],
   "source": [
    "import sklearn.metrics as skm\n",
    "from sklearn.metrics import plot_confusion_matrix\n",
    "\n",
    "test = Xtest.reshape(Xtest.shape[0],Xtest[0].size,1)\n",
    "y_val_vect = Ytest.astype(int)\n",
    "y_predict  = np.argmax(model0.predict(test.astype(float)), axis=-1)\n",
    "\n",
    "confusion_matrix  = skm.confusion_matrix(y_val_vect ,y_predict, normalize='true')\n",
    "\n",
    "ax = sns.heatmap(confusion_matrix, annot=True, fmt = '.2f', cmap=\"YlGnBu\")\n",
    "ax.set_title('SGD No reg', fontsize=20)\n",
    "plt.show()"
   ]
  },
  {
   "cell_type": "markdown",
   "metadata": {},
   "source": [
    "Come si osserva dai grafici abbiamo un evidente overfitting che comporta il mismatch dei dati con label 10 e 11 (IP, ASL) confondendoli sempre con quelli sani H."
   ]
  },
  {
   "cell_type": "markdown",
   "metadata": {
    "id": "3QzE78BqUO-B"
   },
   "source": [
    "# Prove con layer di dropout e data augmentation\n",
    "Si è dunque deciso di aggiungere un altro layer di dropout per evitare l'overfitting dei dati."
   ]
  },
  {
   "cell_type": "code",
   "execution_count": 73,
   "metadata": {
    "executionInfo": {
     "elapsed": 252,
     "status": "ok",
     "timestamp": 1624261322300,
     "user": {
      "displayName": "linda bianchini",
      "photoUrl": "",
      "userId": "12143919592352508291"
     },
     "user_tz": -120
    },
    "id": "zWaGqV98T5Yw"
   },
   "outputs": [],
   "source": [
    "def create_model1(optimizer, activation='relu'):\n",
    "    model = Sequential()\n",
    "    model.add(Conv1D(64, 5, strides=1, input_shape = input_shape, activation=activation))\n",
    "    model.add(Conv1D(128, 3, strides=1, activation=activation))\n",
    "    model.add(MaxPool1D(pool_size=2, strides=2))\n",
    "    model.add(Dropout(0.2))\n",
    "    model.add(Conv1D(128, 13, strides=1, activation=activation))\n",
    "    model.add(Conv1D(256, 7, strides=1, activation=activation))\n",
    "    model.add(MaxPool1D(pool_size=2, strides=2))\n",
    "    model.add(Flatten())\n",
    "    model.add(Dropout(0.2))\n",
    "    model.add(Dense(12, activation = activation))\n",
    "    model.add(Softmax())\n",
    "    \n",
    "    print(model.summary())\n",
    "\n",
    "    model.compile(loss = keras.losses.categorical_crossentropy, optimizer = optimizer, metrics = ['accuracy']) \n",
    "    \n",
    "    return model"
   ]
  },
  {
   "cell_type": "code",
   "execution_count": 74,
   "metadata": {
    "colab": {
     "base_uri": "https://localhost:8080/"
    },
    "executionInfo": {
     "elapsed": 2962836,
     "status": "ok",
     "timestamp": 1624264286902,
     "user": {
      "displayName": "linda bianchini",
      "photoUrl": "",
      "userId": "12143919592352508291"
     },
     "user_tz": -120
    },
    "id": "GmzjirlAUYSL",
    "outputId": "37e7e6f6-9cb8-471a-dbc5-0660ccad910d"
   },
   "outputs": [
    {
     "name": "stderr",
     "output_type": "stream",
     "text": [
      "/usr/local/lib/python3.7/dist-packages/tensorflow/python/keras/optimizer_v2/optimizer_v2.py:375: UserWarning: The `lr` argument is deprecated, use `learning_rate` instead.\n",
      "  \"The `lr` argument is deprecated, use `learning_rate` instead.\")\n"
     ]
    },
    {
     "name": "stdout",
     "output_type": "stream",
     "text": [
      "Model: \"sequential_2\"\n",
      "_________________________________________________________________\n",
      "Layer (type)                 Output Shape              Param #   \n",
      "=================================================================\n",
      "conv1d_4 (Conv1D)            (None, 646, 64)           384       \n",
      "_________________________________________________________________\n",
      "conv1d_5 (Conv1D)            (None, 644, 128)          24704     \n",
      "_________________________________________________________________\n",
      "max_pooling1d_2 (MaxPooling1 (None, 322, 128)          0         \n",
      "_________________________________________________________________\n",
      "dropout_1 (Dropout)          (None, 322, 128)          0         \n",
      "_________________________________________________________________\n",
      "conv1d_6 (Conv1D)            (None, 310, 128)          213120    \n",
      "_________________________________________________________________\n",
      "conv1d_7 (Conv1D)            (None, 304, 256)          229632    \n",
      "_________________________________________________________________\n",
      "max_pooling1d_3 (MaxPooling1 (None, 152, 256)          0         \n",
      "_________________________________________________________________\n",
      "flatten_1 (Flatten)          (None, 38912)             0         \n",
      "_________________________________________________________________\n",
      "dropout_2 (Dropout)          (None, 38912)             0         \n",
      "_________________________________________________________________\n",
      "dense_1 (Dense)              (None, 12)                466956    \n",
      "_________________________________________________________________\n",
      "softmax_1 (Softmax)          (None, 12)                0         \n",
      "=================================================================\n",
      "Total params: 934,796\n",
      "Trainable params: 934,796\n",
      "Non-trainable params: 0\n",
      "_________________________________________________________________\n",
      "None\n",
      "Epoch 1/50\n",
      "1875/1875 [==============================] - 59s 31ms/step - loss: 0.5968 - accuracy: 0.8090 - val_loss: 0.3173 - val_accuracy: 0.9073\n",
      "Epoch 2/50\n",
      "1875/1875 [==============================] - 58s 31ms/step - loss: 0.1998 - accuracy: 0.9359 - val_loss: 0.1797 - val_accuracy: 0.9463\n",
      "Epoch 3/50\n",
      "1875/1875 [==============================] - 58s 31ms/step - loss: 0.1459 - accuracy: 0.9511 - val_loss: 0.1263 - val_accuracy: 0.9618\n",
      "Epoch 4/50\n",
      "1875/1875 [==============================] - 58s 31ms/step - loss: 0.1223 - accuracy: 0.9579 - val_loss: 0.1154 - val_accuracy: 0.9623\n",
      "Epoch 5/50\n",
      "1875/1875 [==============================] - 58s 31ms/step - loss: 0.1124 - accuracy: 0.9602 - val_loss: 0.0909 - val_accuracy: 0.9694\n",
      "Epoch 6/50\n",
      "1875/1875 [==============================] - 58s 31ms/step - loss: 0.1036 - accuracy: 0.9627 - val_loss: 0.0862 - val_accuracy: 0.9721\n",
      "Epoch 7/50\n",
      "1875/1875 [==============================] - 59s 31ms/step - loss: 0.0965 - accuracy: 0.9650 - val_loss: 0.0806 - val_accuracy: 0.9729\n",
      "Epoch 8/50\n",
      "1875/1875 [==============================] - 58s 31ms/step - loss: 0.0927 - accuracy: 0.9656 - val_loss: 0.0727 - val_accuracy: 0.9750\n",
      "Epoch 9/50\n",
      "1875/1875 [==============================] - 59s 31ms/step - loss: 0.0908 - accuracy: 0.9665 - val_loss: 0.0737 - val_accuracy: 0.9746\n",
      "Epoch 10/50\n",
      "1875/1875 [==============================] - 59s 31ms/step - loss: 0.0880 - accuracy: 0.9671 - val_loss: 0.0691 - val_accuracy: 0.9763\n",
      "Epoch 11/50\n",
      "1875/1875 [==============================] - 59s 31ms/step - loss: 0.0860 - accuracy: 0.9675 - val_loss: 0.0734 - val_accuracy: 0.9750\n",
      "Epoch 12/50\n",
      "1875/1875 [==============================] - 59s 31ms/step - loss: 0.0827 - accuracy: 0.9686 - val_loss: 0.0633 - val_accuracy: 0.9773\n",
      "Epoch 13/50\n",
      "1875/1875 [==============================] - 58s 31ms/step - loss: 0.0814 - accuracy: 0.9691 - val_loss: 0.0613 - val_accuracy: 0.9779\n",
      "Epoch 14/50\n",
      "1875/1875 [==============================] - 58s 31ms/step - loss: 0.0788 - accuracy: 0.9697 - val_loss: 0.0607 - val_accuracy: 0.9779\n",
      "Epoch 15/50\n",
      "1875/1875 [==============================] - 59s 31ms/step - loss: 0.0787 - accuracy: 0.9699 - val_loss: 0.0647 - val_accuracy: 0.9777\n",
      "Epoch 16/50\n",
      "1875/1875 [==============================] - 59s 31ms/step - loss: 0.0835 - accuracy: 0.9685 - val_loss: 0.0613 - val_accuracy: 0.9784\n",
      "Epoch 17/50\n",
      "1875/1875 [==============================] - 59s 31ms/step - loss: 0.0787 - accuracy: 0.9697 - val_loss: 0.0562 - val_accuracy: 0.9807\n",
      "Epoch 18/50\n",
      "1875/1875 [==============================] - 59s 31ms/step - loss: 0.0788 - accuracy: 0.9701 - val_loss: 0.0622 - val_accuracy: 0.9784\n",
      "Epoch 19/50\n",
      "1875/1875 [==============================] - 58s 31ms/step - loss: 0.0758 - accuracy: 0.9708 - val_loss: 0.0565 - val_accuracy: 0.9797\n",
      "Epoch 20/50\n",
      "1875/1875 [==============================] - 58s 31ms/step - loss: 0.0744 - accuracy: 0.9712 - val_loss: 0.0557 - val_accuracy: 0.9813\n",
      "Epoch 21/50\n",
      "1875/1875 [==============================] - 58s 31ms/step - loss: 0.0758 - accuracy: 0.9708 - val_loss: 0.0552 - val_accuracy: 0.9807\n",
      "Epoch 22/50\n",
      "1875/1875 [==============================] - 59s 31ms/step - loss: 0.0736 - accuracy: 0.9716 - val_loss: 0.0525 - val_accuracy: 0.9817\n",
      "Epoch 23/50\n",
      "1875/1875 [==============================] - 58s 31ms/step - loss: 0.0742 - accuracy: 0.9713 - val_loss: 0.0558 - val_accuracy: 0.9810\n",
      "Epoch 24/50\n",
      "1875/1875 [==============================] - 58s 31ms/step - loss: 0.0737 - accuracy: 0.9713 - val_loss: 0.0543 - val_accuracy: 0.9811\n",
      "Epoch 25/50\n",
      "1875/1875 [==============================] - 58s 31ms/step - loss: 0.0729 - accuracy: 0.9717 - val_loss: 0.0566 - val_accuracy: 0.9800\n",
      "Epoch 26/50\n",
      "1875/1875 [==============================] - 58s 31ms/step - loss: 0.0736 - accuracy: 0.9716 - val_loss: 0.0518 - val_accuracy: 0.9819\n",
      "Epoch 27/50\n",
      "1875/1875 [==============================] - 59s 31ms/step - loss: 0.0723 - accuracy: 0.9719 - val_loss: 0.0526 - val_accuracy: 0.9827\n",
      "Epoch 28/50\n",
      "1875/1875 [==============================] - 58s 31ms/step - loss: 0.0725 - accuracy: 0.9719 - val_loss: 0.0498 - val_accuracy: 0.9828\n",
      "Epoch 29/50\n",
      "1875/1875 [==============================] - 58s 31ms/step - loss: 0.0718 - accuracy: 0.9722 - val_loss: 0.0479 - val_accuracy: 0.9831\n",
      "Epoch 30/50\n",
      "1875/1875 [==============================] - 58s 31ms/step - loss: 0.0706 - accuracy: 0.9724 - val_loss: 0.0499 - val_accuracy: 0.9822\n",
      "Epoch 31/50\n",
      "1875/1875 [==============================] - 58s 31ms/step - loss: 0.0703 - accuracy: 0.9725 - val_loss: 0.0493 - val_accuracy: 0.9831\n",
      "Epoch 32/50\n",
      "1875/1875 [==============================] - 58s 31ms/step - loss: 0.0713 - accuracy: 0.9723 - val_loss: 0.0511 - val_accuracy: 0.9836\n",
      "Epoch 33/50\n",
      "1875/1875 [==============================] - 58s 31ms/step - loss: 0.0708 - accuracy: 0.9723 - val_loss: 0.0479 - val_accuracy: 0.9830\n",
      "Epoch 34/50\n",
      "1875/1875 [==============================] - 58s 31ms/step - loss: 0.0725 - accuracy: 0.9718 - val_loss: 0.0486 - val_accuracy: 0.9834\n",
      "Epoch 35/50\n",
      "1875/1875 [==============================] - 58s 31ms/step - loss: 0.0709 - accuracy: 0.9724 - val_loss: 0.0497 - val_accuracy: 0.9831\n",
      "Epoch 36/50\n",
      "1875/1875 [==============================] - 58s 31ms/step - loss: 0.0693 - accuracy: 0.9727 - val_loss: 0.0501 - val_accuracy: 0.9831\n",
      "Epoch 37/50\n",
      "1875/1875 [==============================] - 58s 31ms/step - loss: 0.0698 - accuracy: 0.9727 - val_loss: 0.0489 - val_accuracy: 0.9830\n",
      "Epoch 38/50\n",
      "1875/1875 [==============================] - 58s 31ms/step - loss: 0.0698 - accuracy: 0.9727 - val_loss: 0.0483 - val_accuracy: 0.9830\n",
      "Epoch 39/50\n",
      "1875/1875 [==============================] - 58s 31ms/step - loss: 0.0693 - accuracy: 0.9728 - val_loss: 0.0480 - val_accuracy: 0.9835\n",
      "Epoch 40/50\n",
      "1875/1875 [==============================] - 58s 31ms/step - loss: 0.0686 - accuracy: 0.9731 - val_loss: 0.0572 - val_accuracy: 0.9836\n",
      "Epoch 41/50\n",
      "1875/1875 [==============================] - 58s 31ms/step - loss: 0.0684 - accuracy: 0.9731 - val_loss: 0.0495 - val_accuracy: 0.9838\n",
      "Epoch 42/50\n",
      "1875/1875 [==============================] - 58s 31ms/step - loss: 0.0688 - accuracy: 0.9730 - val_loss: 0.0486 - val_accuracy: 0.9831\n",
      "Epoch 43/50\n",
      "1875/1875 [==============================] - 58s 31ms/step - loss: 0.0685 - accuracy: 0.9731 - val_loss: 0.0486 - val_accuracy: 0.9835\n",
      "Epoch 44/50\n",
      "1875/1875 [==============================] - 58s 31ms/step - loss: 0.0687 - accuracy: 0.9731 - val_loss: 0.0487 - val_accuracy: 0.9835\n",
      "Epoch 45/50\n",
      "1875/1875 [==============================] - 58s 31ms/step - loss: 0.0687 - accuracy: 0.9730 - val_loss: 0.0491 - val_accuracy: 0.9838\n",
      "Epoch 46/50\n",
      "1875/1875 [==============================] - 58s 31ms/step - loss: 0.0693 - accuracy: 0.9729 - val_loss: 0.0469 - val_accuracy: 0.9839\n",
      "Epoch 47/50\n",
      "1875/1875 [==============================] - 58s 31ms/step - loss: 0.0688 - accuracy: 0.9731 - val_loss: 0.0497 - val_accuracy: 0.9832\n",
      "Epoch 48/50\n",
      "1875/1875 [==============================] - 58s 31ms/step - loss: 0.0692 - accuracy: 0.9729 - val_loss: 0.0485 - val_accuracy: 0.9830\n",
      "Epoch 49/50\n",
      "1875/1875 [==============================] - 58s 31ms/step - loss: 0.0686 - accuracy: 0.9730 - val_loss: 0.0492 - val_accuracy: 0.9831\n",
      "Epoch 50/50\n",
      "1875/1875 [==============================] - 58s 31ms/step - loss: 0.0687 - accuracy: 0.9729 - val_loss: 0.0462 - val_accuracy: 0.9836\n"
     ]
    }
   ],
   "source": [
    "# regl1 = regularizers.l1(0.01)\n",
    "np.random.seed(12345)\n",
    "# ini = initializers.RandomNormal(mean = 0, stddev = 0.05)\n",
    "opt = optimizers.SGD(lr = 0.01, momentum = 0.9, nesterov = True, decay = 1e-6)\n",
    "model1 = create_model1(opt)\n",
    "\n",
    "fit = model1.fit(Xtrain, Ytrain_cat,\n",
    "               batch_size = batch_size, epochs = epochs,\n",
    "               validation_data = (Xval, Yval_cat),\n",
    "               verbose = 1, shuffle = True)\n",
    "\n",
    "SGD1 = np.array((fit.history[\"accuracy\"],\n",
    "                       fit.history['val_' + \"accuracy\"],\n",
    "                       fit.history[\"loss\"], fit.history['val_' + \"loss\"]))"
   ]
  },
  {
   "cell_type": "code",
   "execution_count": 76,
   "metadata": {
    "colab": {
     "base_uri": "https://localhost:8080/",
     "height": 623
    },
    "executionInfo": {
     "elapsed": 525,
     "status": "ok",
     "timestamp": 1624264688416,
     "user": {
      "displayName": "linda bianchini",
      "photoUrl": "",
      "userId": "12143919592352508291"
     },
     "user_tz": -120
    },
    "id": "Nxc9plE2UjEH",
    "outputId": "936d9dcb-a38c-4de3-d7e4-6925906c7ab3"
   },
   "outputs": [
    {
     "data": {
      "image/png": "[encoded data removed]",
      "text/plain": [
       "<Figure size 576x360 with 1 Axes>"
      ]
     },
     "metadata": {
      "tags": []
     },
     "output_type": "display_data"
    },
    {
     "data": {
      "image/png": "[encoded data removed]",
      "text/plain": [
       "<Figure size 576x360 with 1 Axes>"
      ]
     },
     "metadata": {
      "tags": []
     },
     "output_type": "display_data"
    }
   ],
   "source": [
    "i=0\n",
    "plt.plot(SGD1[i], 'r', label = 'accuracy of training data SGD')\n",
    "plt.plot(SGD1[i+1], 'r--', label = 'accuracy of validation data SGD', alpha=0.5)\n",
    "plt.legend() \n",
    "plt.show()\n",
    "\n",
    "i=2\n",
    "plt.plot(SGD1[i], 'r', label = 'loss of training data SGD')\n",
    "plt.plot(SGD1[i+1], 'r--', label = 'loss of validation data SGD', alpha=0.5)\n",
    "plt.legend() \n",
    "plt.show()"
   ]
  },
  {
   "cell_type": "markdown",
   "metadata": {
    "id": "LLEq2dZhutdY"
   },
   "source": [
    "Abbiamo un principio di overfitting"
   ]
  },
  {
   "cell_type": "code",
   "execution_count": 77,
   "metadata": {
    "executionInfo": {
     "elapsed": 465,
     "status": "ok",
     "timestamp": 1624264729645,
     "user": {
      "displayName": "linda bianchini",
      "photoUrl": "",
      "userId": "12143919592352508291"
     },
     "user_tz": -120
    },
    "id": "llwfkL96uMfu"
   },
   "outputs": [],
   "source": [
    "test = Xtest.reshape(Xtest.shape[0],Xtest[0].size,1)"
   ]
  },
  {
   "cell_type": "code",
   "execution_count": 81,
   "metadata": {
    "colab": {
     "base_uri": "https://localhost:8080/",
     "height": 341
    },
    "executionInfo": {
     "elapsed": 2998,
     "status": "ok",
     "timestamp": 1624264836248,
     "user": {
      "displayName": "linda bianchini",
      "photoUrl": "",
      "userId": "12143919592352508291"
     },
     "user_tz": -120
    },
    "id": "6EEJw36vlE7W",
    "outputId": "d94bfa53-34a6-42a3-c440-b40489a49e19"
   },
   "outputs": [
    {
     "data": {
      "image/png": "[encoded data removed]",
      "text/plain": [
       "<Figure size 576x360 with 2 Axes>"
      ]
     },
     "metadata": {
      "tags": []
     },
     "output_type": "display_data"
    }
   ],
   "source": [
    "import sklearn.metrics as skm\n",
    "from sklearn.metrics import plot_confusion_matrix\n",
    "\n",
    "y_val_vect = Ytest.astype(int)\n",
    "y_predict  = np.argmax(model1.predict(test.astype(float)), axis=-1)\n",
    "\n",
    "confusion_matrix  = skm.confusion_matrix(y_val_vect ,y_predict, normalize='true')\n",
    "\n",
    "ax = sns.heatmap(confusion_matrix, annot=True, fmt = '.2f', cmap=\"YlGnBu\")\n",
    "ax.set_title('SGD No reg', fontsize=20)\n",
    "plt.show()"
   ]
  },
  {
   "cell_type": "markdown",
   "metadata": {
    "id": "RnAKWP30FEUF"
   },
   "source": [
    "Il secondo layer di dropout è stato efficace nel diminuire l'overfitting ed infatti in questo caso la confusion matrix alte concentrazioni lungo la diagonale principale.\n",
    "Tuttavia la rete proposta è molto ampia, con 934796 parametri, siamo nel caso del Deep Double Descent, si è perciò deciso di diminuire i parametri fino al di sotto del numero dei dati (120000 con data augmentation) per analizzare più agevolmente la rete."
   ]
  },
  {
   "cell_type": "code",
   "execution_count": null,
   "metadata": {},
   "outputs": [],
   "source": []
  }
 ],
 "metadata": {
  "accelerator": "GPU",
  "colab": {
   "collapsed_sections": [],
   "name": "Progetto_reti.ipynb",
   "provenance": []
  },
  "kernelspec": {
   "display_name": "Python 3",
   "language": "python",
   "name": "python3"
  },
  "language_info": {
   "codemirror_mode": {
    "name": "ipython",
    "version": 3
   },
   "file_extension": ".py",
   "mimetype": "text/x-python",
   "name": "python",
   "nbconvert_exporter": "python",
   "pygments_lexer": "ipython3",
   "version": "3.6.13"
  }
 },
 "nbformat": 4,
 "nbformat_minor": 1
}
